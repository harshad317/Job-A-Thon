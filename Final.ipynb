{
 "cells": [
  {
   "cell_type": "code",
   "execution_count": 1,
   "metadata": {},
   "outputs": [
    {
     "name": "stderr",
     "output_type": "stream",
     "text": [
      "C:\\Anaconda\\lib\\site-packages\\sklearn\\utils\\deprecation.py:143: FutureWarning: The sklearn.ensemble.forest module is  deprecated in version 0.22 and will be removed in version 0.24. The corresponding classes / functions should instead be imported from sklearn.ensemble. Anything that cannot be imported from sklearn.ensemble is now part of the private API.\n",
      "  warnings.warn(message, FutureWarning)\n"
     ]
    }
   ],
   "source": [
    "import pandas as pd\n",
    "import numpy as np\n",
    "import matplotlib.pyplot as plt\n",
    "import seaborn as sns\n",
    "\n",
    "from sklearn.preprocessing import StandardScaler, MinMaxScaler, PowerTransformer, PolynomialFeatures, RobustScaler\n",
    "from sklearn.model_selection import StratifiedKFold, train_test_split, cross_val_score\n",
    "from sklearn.linear_model import LogisticRegression, RidgeClassifier\n",
    "from sklearn.ensemble import RandomForestClassifier, ExtraTreesClassifier, AdaBoostClassifier, BaggingClassifier, GradientBoostingClassifier\n",
    "from xgboost import XGBClassifier\n",
    "from lightgbm import LGBMClassifier\n",
    "from catboost import CatBoostClassifier\n",
    "from sklearn.metrics import roc_auc_score,accuracy_score\n",
    "\n",
    "from category_encoders import TargetEncoder, BinaryEncoder, JamesSteinEncoder\n",
    "from feature_engine.encoding import PRatioEncoder\n",
    "from feature_engine.outliers import Winsorizer\n",
    "from rfpimp import permutation_importances\n",
    "from tqdm.notebook import tqdm\n",
    "import optuna\n",
    "from itertools import combinations\n",
    "import imblearn"
   ]
  },
  {
   "cell_type": "code",
   "execution_count": 2,
   "metadata": {},
   "outputs": [],
   "source": [
    "train = pd.read_csv('train_s3TEQDk.csv')\n",
    "test = pd.read_csv('test_mSzZ8RL.csv')\n",
    "sample = pd.read_csv('sample_submission_eyYijxG.csv')"
   ]
  },
  {
   "cell_type": "code",
   "execution_count": 3,
   "metadata": {},
   "outputs": [
    {
     "data": {
      "text/plain": [
       "((245725, 11), (105312, 10))"
      ]
     },
     "execution_count": 3,
     "metadata": {},
     "output_type": "execute_result"
    }
   ],
   "source": [
    "train.shape, test.shape"
   ]
  },
  {
   "cell_type": "markdown",
   "metadata": {},
   "source": [
    "Variable\n",
    "\t\n",
    "\n",
    "Definition\n",
    "\n",
    "ID:Unique Identifier for a row\n",
    "\n",
    "Gender:Gender of the Customer\n",
    "\n",
    "Age:Age of the Customer (in Years)\n",
    "\n",
    "Region_Code:Code of the Region for the customers\n",
    "\n",
    "Occupation:Occupation Type for the customer\n",
    "\n",
    "Channel_Code:Acquisition Channel Code for the Customer  (Encoded)\n",
    "\n",
    "Vintage:Vintage for the Customer (In Months)\n",
    "\n",
    "Credit_Product:If the Customer has any active credit product (Home loan,\n",
    "Personal loan, Credit Card etc.)\n",
    "\n",
    "Avg_Account_Balance:Average Account Balance for the Customer in last 12 Months\n",
    "\n",
    "Is_Active:If the Customer is Active in last 3 Months\n",
    "\n",
    "Is_Lead(Target):If the Customer is interested for the Credit Card\n",
    "0 : Customer is not interested\n",
    "1 : Customer is interested"
   ]
  },
  {
   "cell_type": "code",
   "execution_count": null,
   "metadata": {},
   "outputs": [],
   "source": [
    "train.isnull().sum(axis=1).sample(15)"
   ]
  },
  {
   "cell_type": "code",
   "execution_count": null,
   "metadata": {
    "scrolled": true
   },
   "outputs": [],
   "source": [
    "train.isnull().sum(axis=0)"
   ]
  },
  {
   "cell_type": "code",
   "execution_count": null,
   "metadata": {
    "scrolled": true
   },
   "outputs": [],
   "source": [
    "test.head()"
   ]
  },
  {
   "cell_type": "code",
   "execution_count": null,
   "metadata": {},
   "outputs": [],
   "source": [
    "train.Avg_Account_Balance = np.log1p(train.Avg_Account_Balance)"
   ]
  },
  {
   "cell_type": "code",
   "execution_count": null,
   "metadata": {},
   "outputs": [],
   "source": [
    "train.shape"
   ]
  },
  {
   "cell_type": "code",
   "execution_count": null,
   "metadata": {},
   "outputs": [],
   "source": [
    "asd = train.drop_duplicates()"
   ]
  },
  {
   "cell_type": "code",
   "execution_count": null,
   "metadata": {},
   "outputs": [],
   "source": [
    "asd.shape"
   ]
  },
  {
   "cell_type": "markdown",
   "metadata": {},
   "source": [
    "#### Feature Engg"
   ]
  },
  {
   "cell_type": "code",
   "execution_count": null,
   "metadata": {},
   "outputs": [],
   "source": [
    "train.Region_Code.unique()"
   ]
  },
  {
   "cell_type": "code",
   "execution_count": null,
   "metadata": {},
   "outputs": [],
   "source": [
    "train.Credit_Product.fillna(value='Missing', inplace=True, axis=0)\n",
    "test.Credit_Product.fillna(value='Missing', inplace=True, axis=0)"
   ]
  },
  {
   "cell_type": "code",
   "execution_count": null,
   "metadata": {},
   "outputs": [],
   "source": [
    "train['no'] = train.Region_Code.str.split('G', expand=True)[1]"
   ]
  },
  {
   "cell_type": "code",
   "execution_count": null,
   "metadata": {},
   "outputs": [],
   "source": [
    "train['no_of_people_by_age'] = train.groupby(['Age'])['ID'].transform('count')\n",
    "train['people_in_region'] = train.groupby('Region_Code')['ID'].transform('count')\n",
    "train['vintage_by_id'] = train.groupby('Vintage')['ID'].transform('count')\n",
    "train['prod_by_id'] = train.groupby('Credit_Product')['ID'].transform('count')\n",
    "train['pred_by_age'] = train.groupby('Credit_Product')['ID'].transform('count')\n",
    "train['prod_by_balance'] = train.groupby('Credit_Product')['Avg_Account_Balance'].transform('count')"
   ]
  },
  {
   "cell_type": "code",
   "execution_count": null,
   "metadata": {
    "scrolled": true
   },
   "outputs": [],
   "source": [
    "train['prod_by_balance_cnt'] = train.Avg_Account_Balance - train.groupby('Credit_Product')['Avg_Account_Balance'].transform('count')\n",
    "train['prod_by_balance_mean'] = train.Avg_Account_Balance - train.groupby('Credit_Product')['Avg_Account_Balance'].transform('mean')\n",
    "train['age_by_balance_cnt'] = train.Avg_Account_Balance - train.groupby('Age')['Avg_Account_Balance'].transform('count')\n",
    "train['age_by_balance_mean'] = train.Avg_Account_Balance - train.groupby('Age')['Avg_Account_Balance'].transform('mean')\n",
    "train['vintage_by_balance_count'] = train.Avg_Account_Balance - train.groupby('Vintage')['Avg_Account_Balance'].transform('count')\n",
    "train['vintage_by_balance_mean'] = train.Avg_Account_Balance - train.groupby('Vintage')['Avg_Account_Balance'].transform('mean')\n",
    "train['region_by_balance_cnt'] = train.Avg_Account_Balance - train.groupby('Region_Code')['Avg_Account_Balance'].transform('count')\n",
    "train['region_by_balance_mean'] = train.Avg_Account_Balance - train.groupby('Region_Code')['Avg_Account_Balance'].transform('mean')\n",
    "train['occ_by_balance_cnt'] = train.Avg_Account_Balance - train.groupby('Occupation')['Avg_Account_Balance'].transform('count')\n",
    "train['occ_by_balance_mean'] = train.Avg_Account_Balance - train.groupby('Occupation')['Avg_Account_Balance'].transform('mean')\n",
    "train['active_by_balance_cnt'] = train.Avg_Account_Balance - train.groupby('Is_Active')['Avg_Account_Balance'].transform('count')\n",
    "train['active_by_balance_mean'] = train.Avg_Account_Balance - train.groupby('Is_Active')['Avg_Account_Balance'].transform('mean')\n",
    "train['gender_by_balance_cnt'] = train.Avg_Account_Balance - train.groupby('Gender')['Avg_Account_Balance'].transform('count')\n",
    "train['gender_by_balance_mean'] = train.Avg_Account_Balance - train.groupby('Gender')['Avg_Account_Balance'].transform('mean')\n",
    "train['channel_by_balance_cnt'] = train.Avg_Account_Balance - train.groupby('Channel_Code')['Avg_Account_Balance'].transform('count')\n",
    "train['channel_by_balance_mean'] = train.Avg_Account_Balance - train.groupby('Channel_Code')['Avg_Account_Balance'].transform('mean')\n",
    "\n",
    "\n",
    "test['prod_by_balance_cnt'] = test.Avg_Account_Balance - test.groupby('Credit_Product')['Avg_Account_Balance'].transform('count')\n",
    "test['prod_by_balance_mean'] = test.Avg_Account_Balance - test.groupby('Credit_Product')['Avg_Account_Balance'].transform('mean')\n",
    "test['age_by_balance_cnt'] = test.Avg_Account_Balance - test.groupby('Age')['Avg_Account_Balance'].transform('count')\n",
    "test['age_by_balance_mean'] = test.Avg_Account_Balance - test.groupby('Age')['Avg_Account_Balance'].transform('mean')\n",
    "test['vintage_by_balance_count'] = test.Avg_Account_Balance - test.groupby('Vintage')['Avg_Account_Balance'].transform('count')\n",
    "test['vintage_by_balance_mean'] = test.Avg_Account_Balance - test.groupby('Vintage')['Avg_Account_Balance'].transform('mean')\n",
    "test['region_by_balance_cnt'] = test.Avg_Account_Balance - test.groupby('Region_Code')['Avg_Account_Balance'].transform('count')\n",
    "test['region_by_balance_mean'] = test.Avg_Account_Balance - test.groupby('Region_Code')['Avg_Account_Balance'].transform('mean')\n",
    "test['occ_by_balance_cnt'] = test.Avg_Account_Balance - test.groupby('Occupation')['Avg_Account_Balance'].transform('count')\n",
    "test['occ_by_balance_mean'] = test.Avg_Account_Balance - test.groupby('Occupation')['Avg_Account_Balance'].transform('mean')\n",
    "test['active_by_balance_cnt'] = test.Avg_Account_Balance - test.groupby('Is_Active')['Avg_Account_Balance'].transform('count')\n",
    "test['active_by_balance_mean'] = test.Avg_Account_Balance - test.groupby('Is_Active')['Avg_Account_Balance'].transform('mean')\n",
    "test['gender_by_balance_cnt'] = test.Avg_Account_Balance - test.groupby('Gender')['Avg_Account_Balance'].transform('count')\n",
    "test['gender_by_balance_mean'] = test.Avg_Account_Balance - test.groupby('Gender')['Avg_Account_Balance'].transform('mean')\n",
    "test['channel_by_balance_cnt'] = test.Avg_Account_Balance - test.groupby('Channel_Code')['Avg_Account_Balance'].transform('count')\n",
    "test['channel_by_balance_mean'] = test.Avg_Account_Balance - test.groupby('Channel_Code')['Avg_Account_Balance'].transform('mean')"
   ]
  },
  {
   "cell_type": "code",
   "execution_count": null,
   "metadata": {},
   "outputs": [],
   "source": [
    "train.Avg_Account_Balance - train.groupby('Is_Active')['Avg_Account_Balance'].transform('mean')"
   ]
  },
  {
   "cell_type": "code",
   "execution_count": null,
   "metadata": {},
   "outputs": [],
   "source": [
    "train.head()"
   ]
  },
  {
   "cell_type": "code",
   "execution_count": null,
   "metadata": {},
   "outputs": [],
   "source": [
    "train['age_by_id_max']= train.groupby(['Age'])['ID'].transform('max')\n",
    "train['age_by_id_min']= train.groupby(['Age'])['ID'].transform('min')\n",
    "train['age_by_id_cnt']= train.groupby(['Age'])['ID'].transform('count')"
   ]
  },
  {
   "cell_type": "code",
   "execution_count": null,
   "metadata": {},
   "outputs": [],
   "source": [
    "train['age_occ_by_id_max']= train.groupby(['Age','Occupation'])['ID'].transform('max')\n",
    "train['age_occ_by_id_min']= train.groupby(['Age','Occupation'])['ID'].transform('min')\n",
    "train['age_occ_by_id_cnt']= train.groupby(['Age','Occupation'])['ID'].transform('count')"
   ]
  },
  {
   "cell_type": "code",
   "execution_count": null,
   "metadata": {},
   "outputs": [],
   "source": [
    "train.groupby(['Age'])['ID'].count()"
   ]
  },
  {
   "cell_type": "code",
   "execution_count": null,
   "metadata": {},
   "outputs": [],
   "source": [
    "cat_cols = [var for var in train.columns if train[var].dtypes == 'O']"
   ]
  },
  {
   "cell_type": "code",
   "execution_count": null,
   "metadata": {},
   "outputs": [],
   "source": [
    "cat_cols"
   ]
  },
  {
   "cell_type": "code",
   "execution_count": null,
   "metadata": {},
   "outputs": [],
   "source": [
    "for col in (train.columns):\n",
    "    train[col] = train[col].factorize()[0]"
   ]
  },
  {
   "cell_type": "code",
   "execution_count": null,
   "metadata": {},
   "outputs": [],
   "source": []
  },
  {
   "cell_type": "code",
   "execution_count": null,
   "metadata": {},
   "outputs": [],
   "source": [
    "def gender_empty1(df):\n",
    "    if df['Credit_Product'] == np.nan:\n",
    "        return 1\n",
    "    else:\n",
    "        return 0"
   ]
  },
  {
   "cell_type": "code",
   "execution_count": null,
   "metadata": {},
   "outputs": [],
   "source": [
    "train['cred_prod_empty'] = train.apply(lambda train: gender_empty1(train), axis = 1)\n",
    "test['cred_prod_empty'] = test.apply(lambda train: gender_empty1(train), axis = 1)"
   ]
  },
  {
   "cell_type": "code",
   "execution_count": null,
   "metadata": {},
   "outputs": [],
   "source": []
  },
  {
   "cell_type": "code",
   "execution_count": null,
   "metadata": {},
   "outputs": [],
   "source": [
    "training.isnull().sum()"
   ]
  },
  {
   "cell_type": "code",
   "execution_count": null,
   "metadata": {},
   "outputs": [],
   "source": [
    "cat_features=[]\n",
    "    \n",
    "#Interaction Feature (Combining 2 categorical features and performing frequency encoding)\n",
    "    \n",
    "columns=[\n",
    " 'Gender',\n",
    " 'Region_Code',\n",
    " 'Occupation',\n",
    " 'Channel_Code',\n",
    " 'Is_Active']\n",
    "comb = combinations(columns, 2) \n",
    "\n",
    "for i in list(comb):\n",
    "    train[f'{i[0]}_{i[1]}']=train[i[0]].astype(str)+'_'+train[i[1]].astype(str)\n",
    "    test[f'{i[0]}_{i[1]}']=test[i[0]].astype(str)+'_'+test[i[1]].astype(str)"
   ]
  },
  {
   "cell_type": "code",
   "execution_count": null,
   "metadata": {},
   "outputs": [],
   "source": [
    "train['region_cred'] = train.Region_Code.astype(str) + '_' + train.Credit_Product.astype(str)\n",
    "train['cred_active'] = train.Credit_Product.astype(str) + '_' + train.Is_Active.astype(str)"
   ]
  },
  {
   "cell_type": "code",
   "execution_count": null,
   "metadata": {},
   "outputs": [],
   "source": [
    "train['age - vintage'] = train.Age - train.Vintage"
   ]
  },
  {
   "cell_type": "code",
   "execution_count": null,
   "metadata": {},
   "outputs": [],
   "source": [
    "train['Balance_by_vintage'] = train.Avg_Account_Balance/train.Vintage\n",
    "test['Balance_by_vintage'] = test.Avg_Account_Balance/test.Vintage"
   ]
  },
  {
   "cell_type": "code",
   "execution_count": null,
   "metadata": {},
   "outputs": [],
   "source": [
    "train.groupby(['Credit_Product'])['Age'].count()"
   ]
  },
  {
   "cell_type": "code",
   "execution_count": null,
   "metadata": {},
   "outputs": [],
   "source": [
    "train['Monthly'] = (train.Avg_Account_Balance/12)\n",
    "test['Monthly'] = (test.Avg_Account_Balance/12)"
   ]
  },
  {
   "cell_type": "code",
   "execution_count": null,
   "metadata": {},
   "outputs": [],
   "source": [
    "#train['Vintage_yearly'] = pd.cut(train.Vintage, bins=[0,12,24,36,48,60,72,84,96,108,120,132,135], labels=False)"
   ]
  },
  {
   "cell_type": "code",
   "execution_count": null,
   "metadata": {},
   "outputs": [],
   "source": [
    "train['Monthly*Vintage'] = train.Monthly * train.Vintage\n",
    "test['Monthly*Vintage'] = test.Monthly * test.Vintage"
   ]
  },
  {
   "cell_type": "code",
   "execution_count": null,
   "metadata": {},
   "outputs": [],
   "source": [
    "train['occ_region_by_credit'] = train.groupby(['Occupation', 'Region_Code'])['Credit_Product'].transform('count')"
   ]
  },
  {
   "cell_type": "code",
   "execution_count": null,
   "metadata": {},
   "outputs": [],
   "source": [
    "train.isnull().sum()"
   ]
  },
  {
   "cell_type": "code",
   "execution_count": null,
   "metadata": {},
   "outputs": [],
   "source": [
    "train['age_by_balance'] = train['Avg_Account_Balance'] - train.groupby(['Credit_Product'])['Avg_Account_Balance'].transform('mean')"
   ]
  },
  {
   "cell_type": "code",
   "execution_count": null,
   "metadata": {},
   "outputs": [],
   "source": [
    "train.groupby(['Age'])['Avg_Account_Balance'].transform('mean')"
   ]
  },
  {
   "cell_type": "code",
   "execution_count": null,
   "metadata": {
    "scrolled": true
   },
   "outputs": [],
   "source": [
    "train['active_users_by_region'] = train.groupby(['Region_Code'])['Is_Active'].transform('count')\n",
    "train['active_users_by_occupation'] = train.groupby(['Occupation'])['Is_Active'].transform('count')\n",
    "\n",
    "\n",
    "test['active_users_by_region'] = test.groupby(['Region_Code'])['Is_Active'].transform('count')\n",
    "test['active_users_by_occupation'] = test.groupby(['Occupation'])['Is_Active'].transform('count')"
   ]
  },
  {
   "cell_type": "code",
   "execution_count": null,
   "metadata": {},
   "outputs": [],
   "source": [
    "train['Credit_Product_by_vintage'] = train.groupby(['Vintage'])['Credit_Product'].transform('count')\n",
    "train['Credit_Product_by_region'] = train.groupby(['Region_Code'])['Credit_Product'].transform('count')\n",
    "train['Credit_Product_by_Age'] = train.groupby(['Age'])['Credit_Product'].transform('count')\n",
    "\n",
    "\n",
    "test['Credit_Product_by_vintage'] = test.groupby(['Vintage'])['Credit_Product'].transform('count')\n",
    "test['Credit_Product_by_region'] = test.groupby(['Region_Code'])['Credit_Product'].transform('count')\n",
    "test['Credit_Product_by_Age'] = test.groupby(['Age'])['Credit_Product'].transform('count')"
   ]
  },
  {
   "cell_type": "code",
   "execution_count": null,
   "metadata": {},
   "outputs": [],
   "source": [
    "#train['Occ_by_channel'] = train.groupby(['Occupation'])['Channel_Code'].transform('count')"
   ]
  },
  {
   "cell_type": "code",
   "execution_count": null,
   "metadata": {},
   "outputs": [],
   "source": [
    "train.groupby(['Channel_Code'])['Occupation'].count()"
   ]
  },
  {
   "cell_type": "code",
   "execution_count": null,
   "metadata": {},
   "outputs": [],
   "source": [
    "train.groupby(['Occupation'])['Channel_Code'].nunique()"
   ]
  },
  {
   "cell_type": "code",
   "execution_count": null,
   "metadata": {},
   "outputs": [],
   "source": [
    "train = train.merge(df, on=['Region_Code'], how= 'left')"
   ]
  },
  {
   "cell_type": "code",
   "execution_count": null,
   "metadata": {},
   "outputs": [],
   "source": [
    "train.query(\"Credit_Product == 'No'\")"
   ]
  },
  {
   "cell_type": "code",
   "execution_count": null,
   "metadata": {},
   "outputs": [],
   "source": [
    "train['Actual_balance'] = train.Avg_Account_Balance * 12"
   ]
  },
  {
   "cell_type": "code",
   "execution_count": null,
   "metadata": {},
   "outputs": [],
   "source": [
    "train['6_monthly'] = (train.Monthly * 6)\n",
    "train['3_monthly'] = (train.Monthly * 3)"
   ]
  },
  {
   "cell_type": "code",
   "execution_count": null,
   "metadata": {},
   "outputs": [],
   "source": [
    "train.nunique()"
   ]
  },
  {
   "cell_type": "code",
   "execution_count": null,
   "metadata": {},
   "outputs": [],
   "source": []
  },
  {
   "cell_type": "code",
   "execution_count": null,
   "metadata": {},
   "outputs": [],
   "source": [
    "sns.countplot(train.Gender)"
   ]
  },
  {
   "cell_type": "code",
   "execution_count": null,
   "metadata": {},
   "outputs": [],
   "source": [
    "sns.boxplot(train.Age)"
   ]
  },
  {
   "cell_type": "code",
   "execution_count": null,
   "metadata": {},
   "outputs": [],
   "source": [
    "sns.distplot(train.Age)"
   ]
  },
  {
   "cell_type": "code",
   "execution_count": null,
   "metadata": {},
   "outputs": [],
   "source": [
    "plt.figure(figsize=(25,6))\n",
    "sns.countplot(train.Region_Code)"
   ]
  },
  {
   "cell_type": "code",
   "execution_count": null,
   "metadata": {},
   "outputs": [],
   "source": [
    "sns.countplot(train.Occupation)"
   ]
  },
  {
   "cell_type": "code",
   "execution_count": null,
   "metadata": {},
   "outputs": [],
   "source": [
    "sns.countplot(train.Channel_Code)"
   ]
  },
  {
   "cell_type": "code",
   "execution_count": null,
   "metadata": {},
   "outputs": [],
   "source": [
    "sns.distplot(train.Vintage)"
   ]
  },
  {
   "cell_type": "code",
   "execution_count": null,
   "metadata": {},
   "outputs": [],
   "source": [
    "sns.boxplot(train.Vintage)"
   ]
  },
  {
   "cell_type": "code",
   "execution_count": null,
   "metadata": {},
   "outputs": [],
   "source": [
    "sns.countplot(train.Credit_Product)"
   ]
  },
  {
   "cell_type": "code",
   "execution_count": null,
   "metadata": {
    "scrolled": false
   },
   "outputs": [],
   "source": [
    "sns.distplot(X_train.Avg_Account_Balance)\n",
    "print(train.Avg_Account_Balance.skew())"
   ]
  },
  {
   "cell_type": "code",
   "execution_count": null,
   "metadata": {},
   "outputs": [],
   "source": [
    "sns.distplot(np.log1p(train.Avg_Account_Balance))\n",
    "print(np.log1p(train.Avg_Account_Balance).skew())"
   ]
  },
  {
   "cell_type": "code",
   "execution_count": null,
   "metadata": {},
   "outputs": [],
   "source": [
    "sns.boxplot(X_train.Avg_Account_Balance)"
   ]
  },
  {
   "cell_type": "code",
   "execution_count": null,
   "metadata": {
    "scrolled": true
   },
   "outputs": [],
   "source": [
    "sns.boxplot(np.sqrt(train.Avg_Account_Balance))"
   ]
  },
  {
   "cell_type": "code",
   "execution_count": null,
   "metadata": {},
   "outputs": [],
   "source": [
    "win = Winsorizer(capping_method='gaussian', tail='right', fold=1.5, variables=['Avg_Account_Balance'])"
   ]
  },
  {
   "cell_type": "code",
   "execution_count": null,
   "metadata": {},
   "outputs": [],
   "source": [
    "X_train = win.fit_transform(X_train)\n",
    "#X_test = win.transform(X_test)"
   ]
  },
  {
   "cell_type": "code",
   "execution_count": null,
   "metadata": {},
   "outputs": [],
   "source": [
    "sns.distplot(X_train.Avg_Account_Balance)"
   ]
  },
  {
   "cell_type": "code",
   "execution_count": null,
   "metadata": {},
   "outputs": [],
   "source": [
    "sns.countplot(train.Is_Active)"
   ]
  },
  {
   "cell_type": "code",
   "execution_count": null,
   "metadata": {},
   "outputs": [],
   "source": [
    "sns.heatmap(train.corr(), annot=True)"
   ]
  },
  {
   "cell_type": "code",
   "execution_count": null,
   "metadata": {},
   "outputs": [],
   "source": [
    "training.isnull().sum()"
   ]
  },
  {
   "cell_type": "code",
   "execution_count": 4,
   "metadata": {},
   "outputs": [],
   "source": [
    "training, testing = train_test_split(train, test_size = 0.3, random_state= 2021, stratify = train.Is_Lead)"
   ]
  },
  {
   "cell_type": "code",
   "execution_count": null,
   "metadata": {
    "scrolled": true
   },
   "outputs": [],
   "source": [
    "[var for var in training.columns if training[var].dtypes != 'O']"
   ]
  },
  {
   "cell_type": "code",
   "execution_count": 7,
   "metadata": {},
   "outputs": [],
   "source": [
    "cont_cols = ['Gender',\n",
    " 'Age',\n",
    " 'Region_Code',\n",
    " 'Occupation',\n",
    " 'Channel_Code',\n",
    " 'Vintage',\n",
    " 'Credit_Product',\n",
    " 'Avg_Account_Balance',\n",
    " 'Is_Active']"
   ]
  },
  {
   "cell_type": "code",
   "execution_count": 8,
   "metadata": {},
   "outputs": [],
   "source": [
    "X_train = training[cont_cols]\n",
    "y_train = training.Is_Lead\n",
    "X_test = testing[cont_cols]\n",
    "y_test = testing.Is_Lead"
   ]
  },
  {
   "cell_type": "code",
   "execution_count": null,
   "metadata": {},
   "outputs": [],
   "source": [
    "training.head()"
   ]
  },
  {
   "cell_type": "code",
   "execution_count": null,
   "metadata": {},
   "outputs": [],
   "source": [
    "plt.figure(figsize=(25,10))\n",
    "sns.heatmap(training.corr(), annot=True)"
   ]
  },
  {
   "cell_type": "code",
   "execution_count": null,
   "metadata": {},
   "outputs": [],
   "source": [
    "sc = RobustScaler()\n",
    "sc.fit(X_train)\n",
    "X_train = sc.transform(X_train)\n",
    "X_test = sc.transform(X_test)"
   ]
  },
  {
   "cell_type": "markdown",
   "metadata": {},
   "source": [
    "### Basically without any modification to data.....we can get score upto 87.23%"
   ]
  },
  {
   "cell_type": "code",
   "execution_count": null,
   "metadata": {},
   "outputs": [],
   "source": [
    "models = [GradientBoostingClassifier(),AdaBoostClassifier(), XGBClassifier(), \n",
    "          LGBMClassifier(), LogisticRegression(max_iter=1000)]\n",
    "\n",
    "for model in models:\n",
    "    model.fit(X_train, y_train)\n",
    "    pred = model.predict_proba(X_test)\n",
    "    print('For the model: ', model, 'we get the score of: ', roc_auc_score(y_test, pred[:,1]))"
   ]
  },
  {
   "cell_type": "code",
   "execution_count": null,
   "metadata": {},
   "outputs": [],
   "source": [
    "train.query(\"Occupation == 'Other' and Channel_Code == 'X3'\").isnull().sum()"
   ]
  },
  {
   "cell_type": "code",
   "execution_count": null,
   "metadata": {},
   "outputs": [],
   "source": [
    "train.isnull().sum()"
   ]
  },
  {
   "cell_type": "code",
   "execution_count": null,
   "metadata": {},
   "outputs": [],
   "source": [
    "params_lgbm"
   ]
  },
  {
   "cell_type": "code",
   "execution_count": null,
   "metadata": {},
   "outputs": [],
   "source": [
    "params_lgbm1 = {\n",
    " 'metric': 'auc',\n",
    " 'reg_lambda': 0.20223035780776089,\n",
    " 'reg_alpha': 0.011492160234855359,\n",
    " 'colsample_bytree': 0.8,\n",
    " 'subsample': 0.6,\n",
    " 'learning_rate': 0.09043670684119678,\n",
    " 'max_depth': 7,\n",
    " 'min_child_samples': 268,\n",
    " 'num_leaves': 56}"
   ]
  },
  {
   "cell_type": "code",
   "execution_count": null,
   "metadata": {},
   "outputs": [],
   "source": [
    "params_lgbm2 = {\n",
    " 'metric': 'auc',\n",
    " 'reg_lambda': 0.5042783261960986,\n",
    " 'reg_alpha': 0.3241067100673235,\n",
    " 'colsample_bytree': 0.7,\n",
    " 'subsample': 0.6,\n",
    " 'learning_rate': 0.09837153547687248,\n",
    " 'max_depth': 7,\n",
    " 'min_child_samples': 171,\n",
    " 'num_leaves': 89}"
   ]
  },
  {
   "cell_type": "code",
   "execution_count": null,
   "metadata": {},
   "outputs": [],
   "source": [
    "params_lgbm3 = {\n",
    " 'reg_lambda': 0.24916738577377065,\n",
    " 'reg_alpha': 0.9514865057617112,\n",
    " 'colsample_bytree': 0.7,\n",
    " 'subsample': 0.7,\n",
    " 'learning_rate': 0.06269102035495595,\n",
    " 'max_depth': 7,\n",
    " 'min_child_samples': 137,\n",
    " 'num_leaves': 116}"
   ]
  },
  {
   "cell_type": "code",
   "execution_count": null,
   "metadata": {},
   "outputs": [],
   "source": [
    "params_lgbm = {\n",
    " 'n_estimators': 50,\n",
    " 'n_estimators': 60,\n",
    " 'reg_lambda': 1.162598140540772,\n",
    " 'reg_alpha': 0.016423687168913046,\n",
    " 'colsample_bytree': 0.6,\n",
    " 'subsample': 0.6,\n",
    " 'learning_rate': 0.08913914708906513,\n",
    " 'max_depth': 15,\n",
    " 'min_child_samples': 56,\n",
    " 'num_leaves': 44}"
   ]
  },
  {
   "cell_type": "code",
   "execution_count": null,
   "metadata": {},
   "outputs": [],
   "source": [
    "import lightgbm as lgbm"
   ]
  },
  {
   "cell_type": "code",
   "execution_count": null,
   "metadata": {},
   "outputs": [],
   "source": [
    "dtrain = lgbm.Dataset(X_train, y_train)\n",
    "dvalid = lgbm.Dataset(X_test, y_test)"
   ]
  },
  {
   "cell_type": "code",
   "execution_count": null,
   "metadata": {
    "scrolled": true
   },
   "outputs": [],
   "source": [
    "modeling = lgbm.train(params_lgbm1, dtrain, valid_sets=[dtrain, dvalid], verbose_eval=200, num_boost_round= 100000)\n",
    "y_pred= modeling.predict(X_test)\n",
    "print(roc_auc_score(y_test, y_pred))"
   ]
  },
  {
   "cell_type": "code",
   "execution_count": null,
   "metadata": {},
   "outputs": [],
   "source": [
    "model1 = LGBMClassifier(**params_lgbm)\n",
    "model1.fit(X_train, y_train)\n",
    "pred = model1.predict_proba(X_test)\n",
    "#print(roc_auc_score(y_test, pred[:,1]))"
   ]
  },
  {
   "cell_type": "code",
   "execution_count": null,
   "metadata": {},
   "outputs": [],
   "source": [
    "model2 = LGBMClassifier(**params_lgbm2)\n",
    "model2.fit(X_train, y_train)\n",
    "pred = model2.predict_proba(X_test)\n",
    "print(roc_auc_score(y_test, pred[:,1]))"
   ]
  },
  {
   "cell_type": "code",
   "execution_count": null,
   "metadata": {},
   "outputs": [],
   "source": [
    "model3 = LGBMClassifier(**params_lgbm3)\n",
    "model3.fit(X_train, y_train)\n",
    "pred = model3.predict_proba(X_test)\n",
    "#print(roc_auc_score(y_test, pred[:,1]))"
   ]
  },
  {
   "cell_type": "code",
   "execution_count": null,
   "metadata": {},
   "outputs": [],
   "source": [
    "from sklearn.ensemble import BaggingClassifier"
   ]
  },
  {
   "cell_type": "code",
   "execution_count": null,
   "metadata": {},
   "outputs": [],
   "source": [
    "bag1 = BaggingClassifier(base_estimator=LGBMClassifier(**params_lgbm1), max_features=X_train.shape[1], bootstrap=True)\n",
    "bag1.fit(X_train, y_train)\n",
    "predict = bag1.predict_proba(X_test)\n",
    "#print(roc_auc_score(y_test, predict[:,1]))"
   ]
  },
  {
   "cell_type": "code",
   "execution_count": null,
   "metadata": {},
   "outputs": [],
   "source": [
    "bag3 = BaggingClassifier(base_estimator=LGBMClassifier(**params_lgbm3), max_features=X_train.shape[1], bootstrap=True)\n",
    "bag3.fit(X_train, y_train)\n",
    "predict = bag3.predict_proba(X_test)\n",
    "#print(roc_auc_score(y_test, predict[:,1]))"
   ]
  },
  {
   "cell_type": "code",
   "execution_count": 12,
   "metadata": {
    "scrolled": true
   },
   "outputs": [
    {
     "name": "stdout",
     "output_type": "stream",
     "text": [
      "0.8768892732675941\n"
     ]
    }
   ],
   "source": [
    "model = LGBMClassifier(boosting_type='gbdt',\n",
    "    num_leaves=30,\n",
    "    max_depth=7,\n",
    "    learning_rate=0.1,\n",
    "    subsample_for_bin=200000,\n",
    "    objective=None,\n",
    "    class_weight=None,\n",
    "    min_split_gain=0.0,\n",
    "    min_child_weight=0.001,\n",
    "    min_child_samples=20,\n",
    "    subsample=1.0,\n",
    "    subsample_freq=0,\n",
    "    colsample_bytree=1.0,\n",
    "    reg_alpha=0.0,\n",
    "    reg_lambda=0.0,\n",
    "    random_state=42,\n",
    "    n_jobs=-1,\n",
    "    silent=True,\n",
    "    importance_type='split')\n",
    "model.fit(X_train, y_train)\n",
    "print(roc_auc_score(y_test, model.predict_proba(X_test)[:,1]))"
   ]
  },
  {
   "cell_type": "code",
   "execution_count": 30,
   "metadata": {
    "scrolled": true
   },
   "outputs": [
    {
     "ename": "TypeError",
     "evalue": "sort_values() missing 1 required positional argument: 'by'",
     "output_type": "error",
     "traceback": [
      "\u001b[1;31m---------------------------------------------------------------------------\u001b[0m",
      "\u001b[1;31mTypeError\u001b[0m                                 Traceback (most recent call last)",
      "\u001b[1;32m<ipython-input-30-7de56282e87d>\u001b[0m in \u001b[0;36m<module>\u001b[1;34m\u001b[0m\n\u001b[1;32m----> 1\u001b[1;33m \u001b[0mpd\u001b[0m\u001b[1;33m.\u001b[0m\u001b[0mcrosstab\u001b[0m\u001b[1;33m(\u001b[0m\u001b[0mtrain\u001b[0m\u001b[1;33m.\u001b[0m\u001b[0mGender\u001b[0m\u001b[1;33m,\u001b[0m \u001b[0mtrain\u001b[0m\u001b[1;33m.\u001b[0m\u001b[0mCredit_Product\u001b[0m\u001b[1;33m,\u001b[0m \u001b[0mnormalize\u001b[0m\u001b[1;33m=\u001b[0m\u001b[1;34m'index'\u001b[0m\u001b[1;33m)\u001b[0m\u001b[1;33m.\u001b[0m\u001b[0msort_values\u001b[0m\u001b[1;33m(\u001b[0m\u001b[0mascending\u001b[0m\u001b[1;33m=\u001b[0m\u001b[1;32mFalse\u001b[0m\u001b[1;33m)\u001b[0m\u001b[1;33m\u001b[0m\u001b[1;33m\u001b[0m\u001b[0m\n\u001b[0m",
      "\u001b[1;31mTypeError\u001b[0m: sort_values() missing 1 required positional argument: 'by'"
     ]
    }
   ],
   "source": [
    "pd.crosstab(train.Gender, train.Credit_Product, normalize='index').sort_values(ascending=False)"
   ]
  },
  {
   "cell_type": "code",
   "execution_count": 24,
   "metadata": {},
   "outputs": [
    {
     "data": {
      "text/html": [
       "<div>\n",
       "<style scoped>\n",
       "    .dataframe tbody tr th:only-of-type {\n",
       "        vertical-align: middle;\n",
       "    }\n",
       "\n",
       "    .dataframe tbody tr th {\n",
       "        vertical-align: top;\n",
       "    }\n",
       "\n",
       "    .dataframe thead th {\n",
       "        text-align: right;\n",
       "    }\n",
       "</style>\n",
       "<table border=\"1\" class=\"dataframe\">\n",
       "  <thead>\n",
       "    <tr style=\"text-align: right;\">\n",
       "      <th>Channel_Code</th>\n",
       "      <th>X1</th>\n",
       "      <th>X2</th>\n",
       "      <th>X3</th>\n",
       "      <th>X4</th>\n",
       "    </tr>\n",
       "    <tr>\n",
       "      <th>Gender</th>\n",
       "      <th></th>\n",
       "      <th></th>\n",
       "      <th></th>\n",
       "      <th></th>\n",
       "    </tr>\n",
       "  </thead>\n",
       "  <tbody>\n",
       "    <tr>\n",
       "      <th>Female</th>\n",
       "      <td>0.521977</td>\n",
       "      <td>0.218752</td>\n",
       "      <td>0.239859</td>\n",
       "      <td>0.019412</td>\n",
       "    </tr>\n",
       "    <tr>\n",
       "      <th>Male</th>\n",
       "      <td>0.339076</td>\n",
       "      <td>0.322876</td>\n",
       "      <td>0.312682</td>\n",
       "      <td>0.025366</td>\n",
       "    </tr>\n",
       "  </tbody>\n",
       "</table>\n",
       "</div>"
      ],
      "text/plain": [
       "Channel_Code        X1        X2        X3        X4\n",
       "Gender                                              \n",
       "Female        0.521977  0.218752  0.239859  0.019412\n",
       "Male          0.339076  0.322876  0.312682  0.025366"
      ]
     },
     "execution_count": 24,
     "metadata": {},
     "output_type": "execute_result"
    }
   ],
   "source": [
    "pd.crosstab(train.Gender, train.Channel_Code, normalize='index')"
   ]
  },
  {
   "cell_type": "code",
   "execution_count": null,
   "metadata": {},
   "outputs": [],
   "source": [
    "predict = model.predict(X_test)"
   ]
  },
  {
   "cell_type": "code",
   "execution_count": null,
   "metadata": {},
   "outputs": [],
   "source": [
    "testing['target'] = pd.DataFrame(predict)"
   ]
  },
  {
   "cell_type": "code",
   "execution_count": null,
   "metadata": {
    "scrolled": true
   },
   "outputs": [],
   "source": [
    "pred"
   ]
  },
  {
   "cell_type": "code",
   "execution_count": null,
   "metadata": {},
   "outputs": [],
   "source": [
    "pred = pd.DataFrame()\n",
    "pred['target'] = predict"
   ]
  },
  {
   "cell_type": "code",
   "execution_count": 13,
   "metadata": {},
   "outputs": [],
   "source": [
    "# function for creating a feature importance dataframe\n",
    "def imp_df(column_names, importances):\n",
    "    df = pd.DataFrame({'feature': column_names,\n",
    "                       'feature_importance': importances}) \\\n",
    "           .sort_values('feature_importance', ascending = False) \\\n",
    "           .reset_index(drop = True)\n",
    "    return df\n",
    "\n",
    "# plotting a feature importance dataframe (horizontal barchart)\n",
    "def var_imp_plot(imp_df):\n",
    "    plt.figure(figsize=(20,18))\n",
    "    imp_df.columns = ['feature', 'feature_importance']\n",
    "    sns.barplot(x = 'feature_importance', y = 'feature', data = imp_df, orient = 'h', color = 'royalblue')"
   ]
  },
  {
   "cell_type": "code",
   "execution_count": 14,
   "metadata": {},
   "outputs": [],
   "source": [
    "def r2(rf, X_train, y_train):\n",
    "    pred = model.predict_proba(X_train)\n",
    "    return roc_auc_score(y_train, pred[:, 1])"
   ]
  },
  {
   "cell_type": "code",
   "execution_count": 15,
   "metadata": {},
   "outputs": [],
   "source": [
    "perm_imp_rfpimp = permutation_importances(model, X_train, y_train, r2)\n",
    "perm_imp_rfpimp.reset_index(drop = False, inplace = True)"
   ]
  },
  {
   "cell_type": "code",
   "execution_count": 16,
   "metadata": {
    "scrolled": false
   },
   "outputs": [
    {
     "data": {
      "image/png": "[encoded data removed]",
      "text/plain": [
       "<Figure size 1440x1296 with 1 Axes>"
      ]
     },
     "metadata": {
      "needs_background": "light"
     },
     "output_type": "display_data"
    }
   ],
   "source": [
    "var_imp_plot(perm_imp_rfpimp)"
   ]
  },
  {
   "cell_type": "code",
   "execution_count": 17,
   "metadata": {
    "scrolled": true
   },
   "outputs": [
    {
     "data": {
      "text/plain": [
       "<AxesSubplot:>"
      ]
     },
     "execution_count": 17,
     "metadata": {},
     "output_type": "execute_result"
    },
    {
     "data": {
      "image/png": "[encoded data removed]",
      "text/plain": [
       "<Figure size 432x288 with 1 Axes>"
      ]
     },
     "metadata": {
      "needs_background": "light"
     },
     "output_type": "display_data"
    }
   ],
   "source": [
    "(pd.Series(model.feature_importances_, index=X_train.columns)\n",
    "   .nlargest(10)\n",
    "   .plot(kind='barh'))  "
   ]
  },
  {
   "cell_type": "code",
   "execution_count": null,
   "metadata": {},
   "outputs": [],
   "source": [
    "train.Region_Code.nunique()"
   ]
  },
  {
   "cell_type": "code",
   "execution_count": null,
   "metadata": {},
   "outputs": [],
   "source": [
    "[var for var in training.columns if training[var].dtypes == 'O']"
   ]
  },
  {
   "cell_type": "code",
   "execution_count": 5,
   "metadata": {},
   "outputs": [],
   "source": [
    "cat_cols = [\n",
    " 'Gender',\n",
    " 'Region_Code',\n",
    " 'Occupation',\n",
    " 'Channel_Code',\n",
    " 'Credit_Product',\n",
    " 'Is_Active']"
   ]
  },
  {
   "cell_type": "code",
   "execution_count": 6,
   "metadata": {
    "scrolled": true
   },
   "outputs": [
    {
     "name": "stderr",
     "output_type": "stream",
     "text": [
      "C:\\Anaconda\\lib\\site-packages\\category_encoders\\utils.py:21: FutureWarning: is_categorical is deprecated and will be removed in a future version.  Use is_categorical_dtype instead\n",
      "  elif pd.api.types.is_categorical(cols):\n",
      "C:\\Anaconda\\lib\\site-packages\\pandas\\core\\frame.py:3188: SettingWithCopyWarning: \n",
      "A value is trying to be set on a copy of a slice from a DataFrame.\n",
      "Try using .loc[row_indexer,col_indexer] = value instead\n",
      "\n",
      "See the caveats in the documentation: https://pandas.pydata.org/pandas-docs/stable/user_guide/indexing.html#returning-a-view-versus-a-copy\n",
      "  self[k1] = value[k2]\n"
     ]
    }
   ],
   "source": [
    "be = TargetEncoder(smoothing=0.1)\n",
    "be.fit(training[cat_cols], training.Is_Lead)\n",
    "training[cat_cols] = be.transform(training[cat_cols], training.Is_Lead)\n",
    "testing[cat_cols] = be.transform(testing[cat_cols])"
   ]
  },
  {
   "cell_type": "code",
   "execution_count": null,
   "metadata": {
    "scrolled": false
   },
   "outputs": [],
   "source": [
    "NUM_FOLDS = 10\n",
    "kf = StratifiedKFold(n_splits=NUM_FOLDS, shuffle=True, random_state=0)\n",
    "roc_auc = []\n",
    "\n",
    "for f, (train_ind, val_ind) in tqdm(enumerate(kf.split(X_train, y_train))):\n",
    "    print('==================', f+1, '====================')\n",
    "    train_df, val_df = X_train.iloc[train_ind], X_train.iloc[val_ind]\n",
    "    train_target, val_target = y_train.iloc[train_ind], y_train.iloc[val_ind]\n",
    "        \n",
    "    model = XGBClassifier()\n",
    "    model.fit(train_df, train_target)\n",
    "    print('Train set')\n",
    "    pred = model.predict_proba(train_df)\n",
    "    print('Cat roc-auc on Train data: {}'.format(roc_auc_score(train_target, pred[:, 1])))\n",
    "\n",
    "    print('Val set')\n",
    "    pred_val = model.predict_proba(val_df)\n",
    "    print(roc_auc_score(val_target, pred_val[:, 1]))\n",
    "    pred_test = model.predict_proba(X_test)\n",
    "    print(roc_auc_score(y_test, pred_test[:,1])) \n",
    "    roc_auc.append(roc_auc_score(val_target, pred_val[:, 1]))\n",
    "print('Final prediction:====',np.mean(roc_auc))\n",
    "print('LETS SEE:',roc_auc_score(y_test, pred_test[:,1]))\n",
    "#Final prediction:==== 0.8701031427790922\n",
    "#LETS SEE: 0.8740714708637237\n",
    "#Final prediction:==== 0.8725134527817534\n",
    "#LETS SEE: 0.876757292201171\n"
   ]
  },
  {
   "cell_type": "code",
   "execution_count": null,
   "metadata": {},
   "outputs": [],
   "source": [
    "NUM_FOLDS = 10\n",
    "kf = StratifiedKFold(n_splits=NUM_FOLDS, shuffle=True, random_state=0)\n",
    "roc_auc = []\n",
    "\n",
    "for f, (train_ind, val_ind) in tqdm(enumerate(kf.split(X_train, y_train))):\n",
    "    print('==================', f+1, '====================')\n",
    "    train_df, val_df = X_train.iloc[train_ind], X_train.iloc[val_ind]\n",
    "    train_target, val_target = y_train.iloc[train_ind], y_train.iloc[val_ind]\n",
    "        \n",
    "    model = LGBMClassifier(**params_lgbm3)\n",
    "    model.fit(train_df, train_target)\n",
    "    print('Train set')\n",
    "    pred = model.predict_proba(train_df)\n",
    "    print('Cat roc-auc on Train data: {}'.format(roc_auc_score(train_target, pred[:, 1])))\n",
    "\n",
    "    print('Val set')\n",
    "    pred_val = model.predict_proba(val_df)\n",
    "    print(roc_auc_score(val_target, pred_val[:, 1]))\n",
    "    pred_test = model.predict_proba(X_test)\n",
    "    #print(roc_auc_score(y_test, pred_test[:,1])) \n",
    "    roc_auc.append(roc_auc_score(val_target, pred_val[:, 1]))\n",
    "print('Final prediction:====',np.mean(roc_auc))\n",
    "#print('LETS SEE:',roc_auc_score(y_test, pred_test[:,1]))\n",
    "#Final prediction:==== 0.8724141869363187\n",
    "#LETS SEE: 0.8766329068966433\n",
    "#Final prediction:==== 0.8726935283769887\n",
    "#LETS SEE: 0.8770423259883842\n",
    "#Final prediction:==== 0.8725778285338446\n",
    "#LETS SEE: 0.8770148682600016\n",
    "#Final prediction:==== 0.8725477077538478\n",
    "#LETS SEE: 0.8766009958490295\n"
   ]
  },
  {
   "cell_type": "code",
   "execution_count": null,
   "metadata": {},
   "outputs": [],
   "source": [
    "NUM_FOLDS = 10\n",
    "kf = StratifiedKFold(n_splits=NUM_FOLDS, shuffle=True, random_state=0)\n",
    "roc_auc = []\n",
    "\n",
    "for f, (train_ind, val_ind) in tqdm(enumerate(kf.split(X_train, y_train))):\n",
    "    print('==================', f+1, '====================')\n",
    "    train_df, val_df = X_train.iloc[train_ind], X_train.iloc[val_ind]\n",
    "    train_target, val_target = y_train.iloc[train_ind], y_train.iloc[val_ind]\n",
    "        \n",
    "    model = CatBoostClassifier(verbose=0)\n",
    "    model.fit(train_df, train_target)\n",
    "    print('Train set')\n",
    "    pred = model.predict_proba(train_df)\n",
    "    print('Cat roc-auc on Train data: {}'.format(roc_auc_score(train_target, pred[:, 1])))\n",
    "\n",
    "    print('Val set')\n",
    "    pred_val = model.predict_proba(val_df)\n",
    "    print(roc_auc_score(val_target, pred_val[:, 1]))\n",
    "    pred_test = model.predict_proba(X_test)\n",
    "    print(roc_auc_score(y_test, pred_test[:,1])) \n",
    "    roc_auc.append(roc_auc_score(val_target, pred_val[:, 1]))\n",
    "print('Final prediction:====',np.mean(roc_auc))\n",
    "print('LETS SEE:',roc_auc_score(y_test, pred_test[:,1]))\n",
    "#Final prediction:==== 0.87100714956351\n",
    "#LETS SEE: 0.8751802807406818"
   ]
  },
  {
   "cell_type": "code",
   "execution_count": null,
   "metadata": {},
   "outputs": [],
   "source": []
  },
  {
   "cell_type": "code",
   "execution_count": null,
   "metadata": {},
   "outputs": [],
   "source": [
    "submission = pd.DataFrame()\n",
    "submission['ID'] = sample.ID\n",
    "submission['Is_Lead'] = predict[:,1]\n",
    "submission.to_csv('sub15.csv',index=False)\n",
    "submission.head()"
   ]
  },
  {
   "cell_type": "code",
   "execution_count": null,
   "metadata": {},
   "outputs": [],
   "source": [
    "sample.head()"
   ]
  },
  {
   "cell_type": "code",
   "execution_count": null,
   "metadata": {},
   "outputs": [],
   "source": [
    "def objective(trial):    \n",
    "    # To select which parameters to optimize, please look at the XGBoost documentation:\n",
    "    # https://xgboost.readthedocs.io/en/latest/parameter.html\n",
    "    param = {\n",
    "        'random_state': 10,\n",
    "        #'random_state': trial.suggest_int('random_state', 0,2021),\n",
    "        'reg_lambda': trial.suggest_loguniform('reg_lambda', 1e-3, 10.0),\n",
    "        'reg_alpha': trial.suggest_loguniform('reg_alpha', 1e-3, 10.0),\n",
    "        'colsample_bytree': trial.suggest_categorical('colsample_bytree', [0.3,0.5,0.6,0.7,0.8,0.9,1.0]),\n",
    "        'subsample': trial.suggest_categorical('subsample', [0.6,0.7,0.8,1.0]),\n",
    "        'learning_rate': trial.suggest_loguniform('learning_rate', 0.0001,0.1),\n",
    "        #'n_estimators': trial.suggest_int(\"n_estimators\", 50, 5000),\n",
    "        'max_depth': trial.suggest_categorical('max_depth', [4,5,7,9,11,13,15,17,20]),\n",
    "        'min_child_samples': trial.suggest_int('min_child_samples', 1, 300),\n",
    "        'num_leaves': trial.suggest_int('num_leaves', 15, 120),\n",
    "    }\n",
    "    model = LGBMClassifier(**param)  \n",
    "    \n",
    "    model.fit(X_train, y_train, eval_set=[(X_test, y_test)], early_stopping_rounds=100, verbose=False)\n",
    "    \n",
    "    preds = model.predict_proba(X_test)\n",
    "    \n",
    "    roc = roc_auc_score(y_test, preds[:,1])\n",
    "    \n",
    "    return roc"
   ]
  },
  {
   "cell_type": "code",
   "execution_count": null,
   "metadata": {
    "scrolled": true
   },
   "outputs": [],
   "source": [
    "study_lgbm = optuna.create_study(direction=\"maximize\")\n",
    "study_lgbm.optimize(objective, n_trials=150)\n",
    "print(\"Number of finished trials: {}\".format(len(study_lgbm.trials)))\n",
    "print(\"Best trial:\", study_lgbm.best_trial.params)"
   ]
  },
  {
   "cell_type": "code",
   "execution_count": null,
   "metadata": {},
   "outputs": [],
   "source": [
    "params_lgbm = study_lgbm.best_params"
   ]
  },
  {
   "cell_type": "code",
   "execution_count": null,
   "metadata": {},
   "outputs": [],
   "source": [
    "study_lgbm.best_params"
   ]
  },
  {
   "cell_type": "code",
   "execution_count": null,
   "metadata": {},
   "outputs": [],
   "source": []
  },
  {
   "cell_type": "code",
   "execution_count": null,
   "metadata": {},
   "outputs": [],
   "source": [
    "def get_models():\n",
    "    model1 = LGBMClassifier(**params_lgbm)\n",
    "\n",
    "    model2 = LGBMClassifier(**params_lgbm3)\n",
    "\n",
    "    model3 = LGBMClassifier(**params_lgbm3)\n",
    "    \n",
    "    models = {'XGB':model1, 'CAT':model2, 'LGBM':model3}\n",
    "\n",
    "    return models"
   ]
  },
  {
   "cell_type": "code",
   "execution_count": null,
   "metadata": {},
   "outputs": [],
   "source": [
    "base_learners = get_models()\n",
    "meta_learner = LGBMClassifier(**params_lgbm3)"
   ]
  },
  {
   "cell_type": "code",
   "execution_count": null,
   "metadata": {},
   "outputs": [],
   "source": [
    "from mlens.ensemble import SuperLearner\n",
    "\n",
    "# Instantiate the ensemble with 10 folds\n",
    "sl = SuperLearner(\n",
    "    folds=10,\n",
    "    random_state=10,\n",
    "    verbose=2,\n",
    "    backend=\"multiprocessing\"\n",
    ")\n",
    "\n",
    "# Add the base learners and the meta learner\n",
    "sl.add(list(base_learners.values()), proba=True) \n",
    "sl.add_meta(meta_learner, proba=True)\n",
    "\n",
    "# Train the ensemble\n",
    "sl.fit(X_train, y_train)\n",
    "\n",
    "# Predict the test set\n",
    "p_sl = sl.predict_proba(X_test)\n"
   ]
  },
  {
   "cell_type": "code",
   "execution_count": null,
   "metadata": {},
   "outputs": [],
   "source": [
    "roc_auc_score(y_test, p_sl[:,1])"
   ]
  },
  {
   "cell_type": "code",
   "execution_count": null,
   "metadata": {},
   "outputs": [],
   "source": [
    "import xgboost as xgb\n",
    "def objective_xgb(trial):\n",
    "    dtrain = xgb.DMatrix(X_train, label=y_train)\n",
    "    dvalid = xgb.DMatrix(X_test, label=y_test)\n",
    "\n",
    "    param = {\n",
    "        \"verbosity\": 0,\n",
    "        \"objective\": \"binary:logistic\",\n",
    "        'eval_metric':'auc',\n",
    "        'max_depth':trial.suggest_int('max_depth', 2, 25),\n",
    "        'reg_alpha':trial.suggest_int('reg_alpha', 0, 5),\n",
    "        'reg_lambda':trial.suggest_int('reg_lambda', 0, 5),\n",
    "        'min_child_weight':trial.suggest_int('min_child_weight', 0, 5),\n",
    "        'gamma':trial.suggest_int('gamma', 0, 5),\n",
    "        'learning_rate':trial.suggest_loguniform('learning_rate',0.005,0.5),\n",
    "        'colsample_bytree':trial.suggest_discrete_uniform('colsample_bytree',0.1,1,0.001),\n",
    "        'nthread' : -1}\n",
    "        \n",
    "    \n",
    "    gbm = XGBClassifier(**param, verbose=0)\n",
    "\n",
    "    gbm.fit(X_train, y_train, eval_set=[(X_test, y_test)], early_stopping_rounds=100, verbose = 0)\n",
    "\n",
    "    preds = gbm.predict_proba(X_test)\n",
    "\n",
    "    roc = roc_auc_score(y_test, preds[:,1])\n",
    "    return roc\n"
   ]
  },
  {
   "cell_type": "code",
   "execution_count": null,
   "metadata": {
    "scrolled": true
   },
   "outputs": [],
   "source": [
    "study = optuna.create_study(direction=\"maximize\")\n",
    "study.optimize(objective_xgb, n_trials=50)\n",
    "print(\"Number of finished trials: {}\".format(len(study.trials)))\n",
    "print(\"Best trial:\", study.best_trial.params)"
   ]
  },
  {
   "cell_type": "code",
   "execution_count": null,
   "metadata": {},
   "outputs": [],
   "source": [
    "param_xgb = study.best_params"
   ]
  },
  {
   "cell_type": "code",
   "execution_count": null,
   "metadata": {
    "scrolled": true
   },
   "outputs": [],
   "source": [
    "param_xgb"
   ]
  },
  {
   "cell_type": "code",
   "execution_count": null,
   "metadata": {},
   "outputs": [],
   "source": [
    "param_xgb= {'max_depth': 7,\n",
    " 'reg_alpha': 0,\n",
    " 'reg_lambda': 1,\n",
    " 'min_child_weight': 4,\n",
    " 'gamma': 2,\n",
    " 'learning_rate': 0.1009794032340597,\n",
    " 'colsample_bytree': 0.689}"
   ]
  },
  {
   "cell_type": "code",
   "execution_count": null,
   "metadata": {},
   "outputs": [],
   "source": [
    "def objective_cat(trial):\n",
    "    param = {\n",
    "        #\"colsample_bylevel\": trial.suggest_float(\"colsample_bylevel\", 0.01, 0.1),\n",
    "        \"depth\": trial.suggest_int(\"depth\", 1, 15),\n",
    "        \"boosting_type\": trial.suggest_categorical(\"boosting_type\", [\"Ordered\", \"Plain\"]),\n",
    "        \"bootstrap_type\": trial.suggest_categorical(\n",
    "            \"bootstrap_type\", [\"Bayesian\", \"Bernoulli\", \"MVS\"]\n",
    "        ),\n",
    "        'learning_rate':trial.suggest_loguniform('learning_rate',0.005,0.5),\n",
    "        \"used_ram_limit\": \"3gb\",\n",
    "    }\n",
    "    gbm = CatBoostClassifier(**param, verbose = 0)\n",
    "\n",
    "    gbm.fit(X_train, y_train, eval_set=[(X_test, y_test)], early_stopping_rounds=100, verbose = 0)\n",
    "\n",
    "    preds = gbm.predict_proba(X_test)\n",
    "    pred_labels = np.rint(preds)\n",
    "    accuracy = roc_auc_score(y_test, preds[:,1])\n",
    "    return accuracy\n"
   ]
  },
  {
   "cell_type": "code",
   "execution_count": null,
   "metadata": {},
   "outputs": [],
   "source": [
    "study = optuna.create_study(direction=\"maximize\")\n",
    "study.optimize(objective_cat, n_trials=100)\n",
    "print(\"Number of finished trials: {}\".format(len(study.trials)))\n",
    "print(\"Best trial:\", study.best_trial.params)"
   ]
  },
  {
   "cell_type": "code",
   "execution_count": null,
   "metadata": {},
   "outputs": [],
   "source": []
  },
  {
   "cell_type": "code",
   "execution_count": null,
   "metadata": {},
   "outputs": [],
   "source": [
    "def get_models():\n",
    "    model1 = XGBClassifier(n_estimators= 20)\n",
    "\n",
    "    model2 = XGBClassifier(n_estimators = 30)\n",
    "\n",
    "    model3 = LGBMClassifier(n_estimators=120)\n",
    "    \n",
    "    model4 = LGBMClassifier(n_estimators=130)\n",
    "    \n",
    "    models = {'XGB':model1, 'CAT':model2, 'LGBM':model3, 'LGBM2':model4}\n",
    "\n",
    "    return models"
   ]
  },
  {
   "cell_type": "code",
   "execution_count": null,
   "metadata": {},
   "outputs": [],
   "source": [
    "base_learners = get_models()\n",
    "meta_learner = LGBMClassifier()"
   ]
  },
  {
   "cell_type": "code",
   "execution_count": null,
   "metadata": {},
   "outputs": [],
   "source": [
    "from mlens.ensemble import SuperLearner\n",
    "\n",
    "# Instantiate the ensemble with 10 folds\n",
    "sl = SuperLearner(\n",
    "    folds=10,\n",
    "    random_state=10,\n",
    "    verbose=2,\n",
    "    backend=\"multiprocessing\"\n",
    ")\n",
    "\n",
    "# Add the base learners and the meta learner\n",
    "sl.add(list(base_learners.values()), proba=True) \n",
    "sl.add_meta(meta_learner, proba=True)\n",
    "\n",
    "# Train the ensemble\n",
    "sl.fit(X_train, y_train)\n",
    "\n",
    "# Predict the test set\n",
    "p_sl = sl.predict_proba(X_test)"
   ]
  },
  {
   "cell_type": "code",
   "execution_count": null,
   "metadata": {},
   "outputs": [],
   "source": [
    "roc_auc_score(y_test, p_sl[:,1])"
   ]
  },
  {
   "cell_type": "code",
   "execution_count": null,
   "metadata": {},
   "outputs": [],
   "source": [
    "sc = StandardScaler()\n",
    "sc.fit(X_train)\n",
    "X_train = sc.transform(X_train)\n",
    "X_test = sc.transform(X_test)"
   ]
  },
  {
   "cell_type": "code",
   "execution_count": null,
   "metadata": {},
   "outputs": [],
   "source": [
    "models = [XGBClassifier(), LGBMClassifier(), LogisticRegression(max_iter=1000)]\n",
    "\n",
    "for model in models:\n",
    "    model.fit(X_train, y_train)\n",
    "    pred = model.predict_proba(X_test)\n",
    "    print('For the model: ', model, 'we get the score of: ', roc_auc_score(y_test, pred[:,1]))"
   ]
  },
  {
   "cell_type": "code",
   "execution_count": null,
   "metadata": {
    "scrolled": false
   },
   "outputs": [],
   "source": [
    "n = [10,20,30,40,50,60,70,80,90,100,110,120,130,140,150,160,170,180,190,200,250,300, 500,1000,2000,5000]\n",
    "results = []\n",
    "for i in n:\n",
    "    model = LGBMClassifier(n_estimators=i, **params_lgbm)\n",
    "    model.fit(X_train, y_train)\n",
    "    predict = model.predict_proba(X_test)\n",
    "    results.append(roc_auc_score(y_test, predict[:,1]))\n",
    "    print('For n_estimator: ', i, 'we get score: ', roc_auc_score(y_test, predict[:,1]))\n",
    "    print('***************************************')\n",
    "plt.figure(figsize=(10,8))\n",
    "pd.Series(results, n).plot();\n",
    "print(np.max(results))"
   ]
  },
  {
   "cell_type": "code",
   "execution_count": null,
   "metadata": {},
   "outputs": [],
   "source": [
    "from sklearn.ensemble import StackingClassifier"
   ]
  },
  {
   "cell_type": "code",
   "execution_count": null,
   "metadata": {},
   "outputs": [],
   "source": [
    "estimator = [('lgbm1', LGBMClassifier(**params_lgbm1),\n",
    "             'lgbm2', LGBMClassifier(**params_lgbm2),\n",
    "             'lgbm3', LGBMClassifier(**params_lgbm3))]"
   ]
  },
  {
   "cell_type": "code",
   "execution_count": null,
   "metadata": {},
   "outputs": [],
   "source": [
    "from mlxtend.classifier import StackingClassifier"
   ]
  },
  {
   "cell_type": "code",
   "execution_count": null,
   "metadata": {},
   "outputs": [],
   "source": [
    "lgbm1 = LGBMClassifier(**params_lgbm)\n",
    "lgbm2 = LGBMClassifier(**params_lgbm2)\n",
    "lgbm3 = LGBMClassifier(**params_lgbm3)"
   ]
  },
  {
   "cell_type": "code",
   "execution_count": null,
   "metadata": {},
   "outputs": [],
   "source": [
    "stack = StackingClassifier(classifiers=(lgbm1, lgbm2, lgbm3),meta_classifier=lgbm3, average_probas=True,\n",
    "                           use_features_in_secondary=True)"
   ]
  },
  {
   "cell_type": "code",
   "execution_count": null,
   "metadata": {},
   "outputs": [],
   "source": [
    "stack.fit(X_train, y_train)"
   ]
  },
  {
   "cell_type": "code",
   "execution_count": null,
   "metadata": {},
   "outputs": [],
   "source": [
    "roc_auc_score(y_test, stack.predict_proba(X_test)[:,1])"
   ]
  },
  {
   "cell_type": "code",
   "execution_count": null,
   "metadata": {},
   "outputs": [],
   "source": []
  },
  {
   "cell_type": "code",
   "execution_count": null,
   "metadata": {},
   "outputs": [],
   "source": [
    "from keras.models import Sequential, Model\n",
    "from keras.layers import Dropout, LeakyReLU, Activation, Dense, Flatten\n",
    "import keras\n",
    "from tensorflow.keras.wrappers.scikit_learn import KerasClassifier"
   ]
  },
  {
   "cell_type": "code",
   "execution_count": null,
   "metadata": {},
   "outputs": [],
   "source": [
    "ann = Sequential()\n",
    "ann.add(Dense(512, activation='relu'))\n",
    "ann.add(Dense(128, activation='relu'))\n",
    "ann.add(Dropout(0.4))\n",
    "ann.add(Dense(64, activation='relu'))\n",
    "ann.add(Dense(32, activation='relu'))\n",
    "ann.add(Dropout(0.3))\n",
    "ann.add(Dense(16, activation='relu'))\n",
    "ann.add(Dropout(0.2))\n",
    "ann.add(Dense(1, activation='sigmoid'))"
   ]
  },
  {
   "cell_type": "code",
   "execution_count": null,
   "metadata": {},
   "outputs": [],
   "source": [
    "ann.compile(optimizer=keras.optimizers.Adam(), loss= keras.losses.binary_crossentropy, metrics=['accuracy'])"
   ]
  },
  {
   "cell_type": "code",
   "execution_count": null,
   "metadata": {},
   "outputs": [],
   "source": [
    "ann.fit(X_train, y_train, epochs=25, validation_data=(X_test, y_test), shuffle=True)"
   ]
  },
  {
   "cell_type": "code",
   "execution_count": null,
   "metadata": {},
   "outputs": [],
   "source": [
    "predict = ann.predict(X_test)"
   ]
  },
  {
   "cell_type": "code",
   "execution_count": null,
   "metadata": {},
   "outputs": [],
   "source": [
    "roc_auc_score(y_test, predict)"
   ]
  },
  {
   "cell_type": "code",
   "execution_count": null,
   "metadata": {},
   "outputs": [],
   "source": [
    "from sklearn.ensemble import VotingClassifier"
   ]
  },
  {
   "cell_type": "code",
   "execution_count": null,
   "metadata": {},
   "outputs": [],
   "source": [
    "estimators = [('LGBM1', bag1), ('LGBM2', bag3), ('LGBM3', model3)]"
   ]
  },
  {
   "cell_type": "code",
   "execution_count": null,
   "metadata": {},
   "outputs": [],
   "source": [
    "kfold = StratifiedKFold(n_splits=10,shuffle=True, random_state=10)\n",
    "ensemble = VotingClassifier(estimators, voting='soft', weights=[1,1,1])\n",
    "results = cross_val_score(ensemble, X_train, y_train, cv=kfold, scoring='roc_auc')\n",
    "print('ROC_AUC on train: ',results.mean())\n",
    "ensemble_model = ensemble.fit(X_train,y_train)\n",
    "pred = ensemble_model.predict_proba(X_test)\n",
    "#print('ROC_AUC on test:' , roc_auc_score(y_test, pred[:,1]))"
   ]
  },
  {
   "cell_type": "code",
   "execution_count": null,
   "metadata": {},
   "outputs": [],
   "source": []
  },
  {
   "cell_type": "code",
   "execution_count": null,
   "metadata": {},
   "outputs": [],
   "source": []
  }
 ],
 "metadata": {
  "kernelspec": {
   "display_name": "Python 3",
   "language": "python",
   "name": "python3"
  },
  "language_info": {
   "codemirror_mode": {
    "name": "ipython",
    "version": 3
   },
   "file_extension": ".py",
   "mimetype": "text/x-python",
   "name": "python",
   "nbconvert_exporter": "python",
   "pygments_lexer": "ipython3",
   "version": "3.8.5"
  }
 },
 "nbformat": 4,
 "nbformat_minor": 4
}
